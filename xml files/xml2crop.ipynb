{
 "cells": [
  {
   "cell_type": "code",
   "execution_count": 44,
   "metadata": {},
   "outputs": [],
   "source": [
    "import xml.etree.ElementTree"
   ]
  },
  {
   "cell_type": "code",
   "execution_count": 45,
   "metadata": {},
   "outputs": [],
   "source": [
    "import cv2"
   ]
  },
  {
   "cell_type": "code",
   "execution_count": 46,
   "metadata": {},
   "outputs": [],
   "source": [
    "import os"
   ]
  },
  {
   "cell_type": "code",
   "execution_count": 47,
   "metadata": {},
   "outputs": [],
   "source": [
    "sourceDirectory = r'C:\\Users\\Excel\\Desktop\\xml files'"
   ]
  },
  {
   "cell_type": "code",
   "execution_count": 48,
   "metadata": {},
   "outputs": [],
   "source": [
    "path = os.listdir(sourceDirectory)"
   ]
  },
  {
   "cell_type": "code",
   "execution_count": 49,
   "metadata": {},
   "outputs": [],
   "source": [
    "def processSingleFile(filename):\n",
    "    lines = []\n",
    "    if filename.endswith(\".xml\"):\n",
    "        #print(\"Processing: {0}\".format(os.path.join(sourceDirectory + '/annotations', filename)))\n",
    "        e = xml.etree.ElementTree.parse(os.path.join(sourceDirectory , filename)).getroot()\n",
    "        name, xmin, ymin, xmax, ymax = '','','','',''  \n",
    "        for elem in e.iterfind('object'):\n",
    "            for oel in elem.iter():\n",
    "                if(oel.tag == 'name'):\n",
    "                    name = oel.text.strip()\n",
    "                elif(oel.tag == 'xmin'):\n",
    "                    xmin = int(oel.text.strip())\n",
    "                elif(oel.tag == 'ymin'):\n",
    "                    ymin = int(oel.text.strip())\n",
    "                elif(oel.tag == 'xmax'):\n",
    "                    xmax = int(oel.text.strip())\n",
    "                elif(oel.tag == 'ymax'):\n",
    "                    ymax = int(oel.text.strip())\n",
    "                else:\n",
    "                    continue\n",
    "                    \n",
    "                box = name,xmin,ymin,xmax,ymax    \n",
    "            \n",
    "            lines.append(box)\n",
    "    return lines\n"
   ]
  },
  {
   "cell_type": "code",
   "execution_count": 50,
   "metadata": {},
   "outputs": [],
   "source": [
    "def getnames(file):\n",
    "    item = []\n",
    "    if file.endswith(\".xml\"):\n",
    "        #print(\"Processing: {0}\".format(os.path.join(sourceDirectory + '/annotations', filename)))\n",
    "        e = xml.etree.ElementTree.parse(os.path.join(sourceDirectory , file)).getroot()\n",
    "        name = ''\n",
    "        for elem in e.iterfind('object'):\n",
    "            for oel in elem.iter():\n",
    "                if(oel.tag == 'name'):\n",
    "                    name = oel.text.strip()\n",
    "                    item.append(name)\n",
    "    return item               "
   ]
  },
  {
   "cell_type": "code",
   "execution_count": 51,
   "metadata": {},
   "outputs": [],
   "source": [
    "xml_files =[]\n",
    "for i in path:\n",
    "    if i.endswith('.xml'):                    #.txt\n",
    "        xml_files.append(i)"
   ]
  },
  {
   "cell_type": "code",
   "execution_count": 52,
   "metadata": {},
   "outputs": [
    {
     "data": {
      "text/plain": [
       "['toy10.xml',\n",
       " 'toy11.xml',\n",
       " 'toy12.xml',\n",
       " 'toy13.xml',\n",
       " 'toy14.xml',\n",
       " 'toy15.xml',\n",
       " 'toy16.xml',\n",
       " 'toy17.xml',\n",
       " 'toy18.xml',\n",
       " 'toy19.xml',\n",
       " 'toy20.xml',\n",
       " 'toy21.xml',\n",
       " 'toy22.xml',\n",
       " 'toy23.xml',\n",
       " 'toy24.xml',\n",
       " 'toy5.xml',\n",
       " 'toy6.xml',\n",
       " 'toy7.xml',\n",
       " 'toy8.xml',\n",
       " 'toy9.xml']"
      ]
     },
     "execution_count": 52,
     "metadata": {},
     "output_type": "execute_result"
    }
   ],
   "source": [
    "xml_files"
   ]
  },
  {
   "cell_type": "code",
   "execution_count": 53,
   "metadata": {},
   "outputs": [
    {
     "name": "stdout",
     "output_type": "stream",
     "text": [
      "['toy']\n"
     ]
    }
   ],
   "source": [
    "items = []\n",
    "for file in xml_files:\n",
    "    item=getnames(file)\n",
    "    for k in item:\n",
    "        if k not in items:\n",
    "            items.append(k)\n",
    "print(items)"
   ]
  },
  {
   "cell_type": "code",
   "execution_count": 54,
   "metadata": {},
   "outputs": [
    {
     "data": {
      "text/plain": [
       "1"
      ]
     },
     "execution_count": 54,
     "metadata": {},
     "output_type": "execute_result"
    }
   ],
   "source": [
    "len(items)"
   ]
  },
  {
   "cell_type": "code",
   "execution_count": 55,
   "metadata": {},
   "outputs": [],
   "source": [
    "zero_array = [0]*len(items)"
   ]
  },
  {
   "cell_type": "code",
   "execution_count": 56,
   "metadata": {},
   "outputs": [],
   "source": [
    "for file in xml_files:\n",
    "    line=processSingleFile(file)\n",
    "\n",
    "    for i in line:\n",
    "        objects,x,y,x_width,y_width = i\n",
    "        lab_img = os.path.splitext(file)[0]                        #lab_img=os.path.splitext(file)[0]\n",
    "        img = cv2.imread(lab_img+\".jpg\")                                #img =read img (lab_img + ext)\n",
    "                                                                #image = cv2.imread('000011.png')\n",
    "        crop = img[y:y_width,x:x_width]\n",
    "        path = r'C:\\Users\\Excel\\Desktop\\toys'+'/'+objects\n",
    "        \n",
    "         \n",
    "        \n",
    "        index= items.index(objects)\n",
    "        zero_array[index] +=1\n",
    "        a = zero_array[index]  \n",
    "        \n",
    "        \n",
    "        \n",
    "        #for i in items:\n",
    "        if not os.path.exists(path):\n",
    "            os.makedirs(path)\n",
    "            \n",
    "        cv2.imwrite(os.path.join(path,(str(objects)+str(a)+'.jpg')), crop)"
   ]
  },
  {
   "cell_type": "code",
   "execution_count": null,
   "metadata": {},
   "outputs": [],
   "source": []
  },
  {
   "cell_type": "code",
   "execution_count": null,
   "metadata": {},
   "outputs": [],
   "source": []
  }
 ],
 "metadata": {
  "kernelspec": {
   "display_name": "Python 3",
   "language": "python",
   "name": "python3"
  },
  "language_info": {
   "codemirror_mode": {
    "name": "ipython",
    "version": 3
   },
   "file_extension": ".py",
   "mimetype": "text/x-python",
   "name": "python",
   "nbconvert_exporter": "python",
   "pygments_lexer": "ipython3",
   "version": "3.6.0"
  }
 },
 "nbformat": 4,
 "nbformat_minor": 2
}
