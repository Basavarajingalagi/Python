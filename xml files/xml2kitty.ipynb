{
 "cells": [
  {
   "cell_type": "code",
   "execution_count": 35,
   "metadata": {},
   "outputs": [],
   "source": [
    "import xml.etree.ElementTree"
   ]
  },
  {
   "cell_type": "code",
   "execution_count": 37,
   "metadata": {},
   "outputs": [],
   "source": [
    "import os #errno"
   ]
  },
  {
   "cell_type": "code",
   "execution_count": 38,
   "metadata": {},
   "outputs": [],
   "source": [
    "sourceDirectory = r'C:\\Users\\Excel\\Desktop\\xml files'"
   ]
  },
  {
   "cell_type": "code",
   "execution_count": 39,
   "metadata": {},
   "outputs": [],
   "source": [
    "path = os.listdir(sourceDirectory)"
   ]
  },
  {
   "cell_type": "code",
   "execution_count": 40,
   "metadata": {},
   "outputs": [],
   "source": [
    "def processSingleFile(filename):\n",
    "    lines = []\n",
    "    if filename.endswith(\".xml\"):\n",
    "        #print(\"Processing: {0}\".format(os.path.join(sourceDirectory + '/annotations', filename)))\n",
    "        e = xml.etree.ElementTree.parse(os.path.join(sourceDirectory , filename)).getroot()\n",
    "        name, xmin, ymin, xmax, ymax = '','','','',''\n",
    "        for elem in e.iterfind('object'):\n",
    "            for oel in elem.iter():\n",
    "                if(oel.tag == 'name'):\n",
    "                    name = oel.text.strip()\n",
    "                elif(oel.tag == 'xmin'):\n",
    "                    xmin = oel.text.strip()\n",
    "                elif(oel.tag == 'ymin'):\n",
    "                    ymin = oel.text.strip()\n",
    "                elif(oel.tag == 'xmax'):\n",
    "                    xmax = oel.text.strip()\n",
    "                elif(oel.tag == 'ymax'):\n",
    "                    ymax = oel.text.strip()\n",
    "                else:\n",
    "                    continue\n",
    "            # Example: Car   0.00 0 3.11 801.18 169.78 848.06 186.03 1.41 1.59 4.01 19.44 1.17 65.54 -2.89\n",
    "            # name 0.00 0 0.00 xmin ymax xmax ymin 0.00 0.00 0.00 0.00 0.00 0.00 0.00\n",
    "            lines.append(name + ' ' + '0.00 0 0.00 ' + xmin + ' ' + ymin + ' ' + xmax + ' ' + ymax + ' 0.00 0.00 0.00 0.00 0.00 0.00 0.00')\n",
    "    return lines\n"
   ]
  },
  {
   "cell_type": "code",
   "execution_count": 41,
   "metadata": {},
   "outputs": [],
   "source": [
    "xml_files =[]\n",
    "for i in path:\n",
    "    if i.endswith('.xml'):                    #.txt\n",
    "        xml_files.append(i)"
   ]
  },
  {
   "cell_type": "code",
   "execution_count": 42,
   "metadata": {},
   "outputs": [
    {
     "data": {
      "text/plain": [
       "['toy10.xml',\n",
       " 'toy11.xml',\n",
       " 'toy12.xml',\n",
       " 'toy13.xml',\n",
       " 'toy14.xml',\n",
       " 'toy15.xml',\n",
       " 'toy16.xml',\n",
       " 'toy17.xml',\n",
       " 'toy18.xml',\n",
       " 'toy19.xml',\n",
       " 'toy20.xml',\n",
       " 'toy21.xml',\n",
       " 'toy22.xml',\n",
       " 'toy23.xml',\n",
       " 'toy24.xml',\n",
       " 'toy5.xml',\n",
       " 'toy6.xml',\n",
       " 'toy7.xml',\n",
       " 'toy8.xml',\n",
       " 'toy9.xml']"
      ]
     },
     "execution_count": 42,
     "metadata": {},
     "output_type": "execute_result"
    }
   ],
   "source": [
    "xml_files"
   ]
  },
  {
   "cell_type": "code",
   "execution_count": 43,
   "metadata": {},
   "outputs": [],
   "source": [
    "\n",
    "    for f in path:\n",
    "        #pre, ext = os.path.splitext(f)\n",
    "        # create label file\n",
    "        lines = processSingleFile(f)\n",
    "        pre, ext = os.path.splitext(f)\n",
    "        kitti_labels = pre + '.txt'\n",
    "        with open(os.path.join(sourceDirectory, kitti_labels), \"w\") as text_file:\n",
    "            for item in lines:\n",
    "                text_file.write(\"%s\\n\" % item)"
   ]
  },
  {
   "cell_type": "code",
   "execution_count": null,
   "metadata": {},
   "outputs": [],
   "source": []
  },
  {
   "cell_type": "code",
   "execution_count": null,
   "metadata": {},
   "outputs": [],
   "source": []
  }
 ],
 "metadata": {
  "kernelspec": {
   "display_name": "Python 3",
   "language": "python",
   "name": "python3"
  },
  "language_info": {
   "codemirror_mode": {
    "name": "ipython",
    "version": 3
   },
   "file_extension": ".py",
   "mimetype": "text/x-python",
   "name": "python",
   "nbconvert_exporter": "python",
   "pygments_lexer": "ipython3",
   "version": "3.6.0"
  }
 },
 "nbformat": 4,
 "nbformat_minor": 2
}
