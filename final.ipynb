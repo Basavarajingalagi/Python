{
 "cells": [
  {
   "cell_type": "code",
   "execution_count": 1,
   "metadata": {},
   "outputs": [],
   "source": [
    "data2 = [{'x':'1','y':[{'o':'2'}],'z':[1,2,3],'a':[{'a1':7},{'a2':2}],'b':None},\n",
    "         {'x':'4','y':'6','z':[1,2,3],'a':[{'a1':[{'abc':3}],'a2':6}],'b':None},\n",
    "         {'x':'7','y':'8','z':[1,2,3],'a':[{'a1':6},{'a2':9}],'b':None},\n",
    "         {'x':'7','y':'9','z':[1,2,3],'a':[{'a1':7},{'a2':9}],'b':None}\n",
    "        ]"
   ]
  },
  {
   "cell_type": "code",
   "execution_count": 2,
   "metadata": {},
   "outputs": [],
   "source": [
    "def extract_element_from_json(json_data, path,values = [],check = bool):\n",
    "    def extract(objects, path, ind, arr,values, org_json):\n",
    "        if len(path) > 0 :\n",
    "            key = path[ind]\n",
    "            \n",
    "            if ind + 1 < len(path):\n",
    "                \n",
    "                if isinstance(objects, dict):\n",
    "                    if key in objects.keys():\n",
    "                        extract(objects.get(key), path, ind + 1, arr,values,org_json)\n",
    "                    else:\n",
    "                        arr=str(path[ind])+ \" - NOT FOUND\"\n",
    "           \n",
    "                elif isinstance(objects,list):\n",
    "                    for obj in objects:\n",
    "                        if ind == 0:\n",
    "                            extract(obj,path,ind,arr,values, org_json=obj)\n",
    "                        else:\n",
    "                            extract(obj,path,ind,arr,values, org_json)\n",
    "            elif ind + 1 == len(path):\n",
    "                \n",
    "                if isinstance(objects, list):\n",
    "                    \n",
    "                    for obj in objects:\n",
    "                        if ind == 0: \n",
    "                            \n",
    "                            extract(obj,path,ind,arr,values, org_json=obj)\n",
    "                        else:\n",
    "                            \n",
    "                            extract(obj,path,ind,arr,values, org_json)\n",
    "                 \n",
    "                    #print(org_json)\n",
    "                elif isinstance(objects, dict):\n",
    "                    \n",
    "                    #print(org_json)\n",
    "                    if values == []:\n",
    "                        if check == True:\n",
    "                            if not org_json in arr:\n",
    "                                arr.append(org_json)\n",
    "                            \n",
    "                        if check == False:\n",
    "                            arr == []\n",
    "                    else:\n",
    "                        \n",
    "                        if key in objects.keys():\n",
    "                            for val in values:                            \n",
    "                                if objects[path[-1]] == val :\n",
    "                                    arr.append(org_json)\n",
    "    \n",
    "        else:\n",
    "            arr = objects\n",
    "        #print(arr)\n",
    "        return arr              \n",
    "\n",
    "    \n",
    "    \n",
    "    return extract(json_data,path,0,[],values,json_data)\n",
    "            \n",
    "\n",
    "\n",
    "\n",
    "      \n",
    "#extract_element_from_json(data1, [\"customer_enter_data\"], [None])    \n",
    "    \n"
   ]
  },
  {
   "cell_type": "code",
   "execution_count": 3,
   "metadata": {},
   "outputs": [],
   "source": [
    "import objectpath"
   ]
  },
  {
   "cell_type": "code",
   "execution_count": 4,
   "metadata": {},
   "outputs": [],
   "source": [
    "def getdictionary(paths,values,nullcheck = bool,valcheck = bool):\n",
    "    new = []\n",
    "    def fun(inputarr,val):\n",
    "        j = extract_element_from_json(data2,inputarr,val,nullcheck)\n",
    "        for i in j:\n",
    "            if i not in new:\n",
    "                new.append(i)\n",
    "            \n",
    "    for i in paths:\n",
    "        inputarr = i\n",
    "        index = paths.index(i)\n",
    "        val = values[index]\n",
    "        j = fun(inputarr,val)\n",
    "       \n",
    "    \n",
    "    key = []\n",
    "    for i in paths:\n",
    "        a = i[-1]\n",
    "        key.append(a)   \n",
    "    \n",
    "    \n",
    "    dict_having_same_key_and_val = []\n",
    "    for i in new:\n",
    "        list_of_val = []\n",
    "        for j in key:\n",
    "            jsonnn_tree = objectpath.Tree(i)\n",
    "            tuple_a = list(jsonnn_tree.execute('$..'+j))\n",
    "            list_of_val.append(tuple_a)\n",
    "        \n",
    "        #index = key.index(j)\n",
    "        #if list_of_val == values:\n",
    "        n = 0\n",
    "        for k in values:\n",
    "            index = values.index(k)\n",
    "            for l in list_of_val[index]:\n",
    "                if l in k:\n",
    "                    n+=1\n",
    "        \n",
    "        if len(values) == n:\n",
    "            dict_having_same_key_and_val.append(i)\n",
    "    #print(dict_having_same_key_and_val)\n",
    "    \n",
    "    empty_val = 0\n",
    "    for i in values:\n",
    "         if i == []:\n",
    "            empty_val+=1\n",
    "\n",
    "\n",
    "\n",
    "    \n",
    "    if empty_val == 0:\n",
    "        if dict_having_same_key_and_val == []:\n",
    "            if valcheck == False:\n",
    "                return new\n",
    "\n",
    "        else:\n",
    "            \n",
    "            return dict_having_same_key_and_val\n",
    "    \n",
    "    else:\n",
    "        return new"
   ]
  },
  {
   "cell_type": "code",
   "execution_count": 103,
   "metadata": {},
   "outputs": [
    {
     "name": "stdout",
     "output_type": "stream",
     "text": [
      "{'x': '1', 'y': [{'o': '2'}], 'z': [1, 2, 3], 'a': [{'a1': 7}, {'a2': 2}], 'b': None}\n",
      "{'x': '7', 'y': '9', 'z': [1, 2, 3], 'a': [{'a1': 7}, {'a2': 9}], 'b': None}\n",
      "{'x': '4', 'y': '6', 'z': [1, 2, 3], 'a': [{'a1': [{'abc': 3}], 'a2': 6}], 'b': None}\n",
      "{'x': '7', 'y': '8', 'z': [1, 2, 3], 'a': [{'a1': 6}, {'a2': 9}], 'b': None}\n"
     ]
    }
   ],
   "source": [
    "variable = getdictionary([['a','a1'],['a','a2']],[[7],[]],True)\n",
    "for i in variable:\n",
    "    print(i)"
   ]
  },
  {
   "cell_type": "code",
   "execution_count": 104,
   "metadata": {},
   "outputs": [
    {
     "name": "stdout",
     "output_type": "stream",
     "text": [
      "{'x': '1', 'y': [{'o': '2'}], 'z': [1, 2, 3], 'a': [{'a1': 7}, {'a2': 2}], 'b': None}\n",
      "{'x': '7', 'y': '9', 'z': [1, 2, 3], 'a': [{'a1': 7}, {'a2': 9}], 'b': None}\n"
     ]
    }
   ],
   "source": [
    "variable6 = getdictionary([['a','a1'],['a','a2']],[[7],[]],False)\n",
    "for i in variable6:\n",
    "    print(i)"
   ]
  },
  {
   "cell_type": "code",
   "execution_count": 105,
   "metadata": {},
   "outputs": [
    {
     "name": "stdout",
     "output_type": "stream",
     "text": [
      "{'x': '7', 'y': '9', 'z': [1, 2, 3], 'a': [{'a1': 7}, {'a2': 9}], 'b': None}\n"
     ]
    }
   ],
   "source": [
    "variable2 = getdictionary([['a','a1'],['a','a2']],[[7],[9]],True)\n",
    "for i in variable2:\n",
    "    print(i)"
   ]
  },
  {
   "cell_type": "code",
   "execution_count": 106,
   "metadata": {},
   "outputs": [
    {
     "name": "stdout",
     "output_type": "stream",
     "text": [
      "{'x': '1', 'y': [{'o': '2'}], 'z': [1, 2, 3], 'a': [{'a1': 7}, {'a2': 2}], 'b': None}\n",
      "{'x': '7', 'y': '9', 'z': [1, 2, 3], 'a': [{'a1': 7}, {'a2': 9}], 'b': None}\n",
      "{'x': '4', 'y': '6', 'z': [1, 2, 3], 'a': [{'a1': [{'abc': 3}], 'a2': 6}], 'b': None}\n"
     ]
    }
   ],
   "source": [
    "variable3 = getdictionary([['a','a1'],['a','a2'],['a','a1','abc']],[[7],[2],[3]],False)\n",
    "for i in variable3:\n",
    "    print(i)"
   ]
  },
  {
   "cell_type": "code",
   "execution_count": 107,
   "metadata": {},
   "outputs": [
    {
     "name": "stdout",
     "output_type": "stream",
     "text": [
      "{'x': '1', 'y': [{'o': '2'}], 'z': [1, 2, 3], 'a': [{'a1': 7}, {'a2': 2}], 'b': None}\n",
      "{'x': '7', 'y': '9', 'z': [1, 2, 3], 'a': [{'a1': 7}, {'a2': 9}], 'b': None}\n"
     ]
    }
   ],
   "source": [
    "variable4 = getdictionary([['a','a1'],['a','a2'],['a','a1','abc']],[[7],[],[5]],False)\n",
    "for i in variable4:\n",
    "    print(i)"
   ]
  },
  {
   "cell_type": "code",
   "execution_count": 108,
   "metadata": {},
   "outputs": [
    {
     "name": "stdout",
     "output_type": "stream",
     "text": [
      "{'x': '4', 'y': '6', 'z': [1, 2, 3], 'a': [{'a1': [{'abc': 3}], 'a2': 6}], 'b': None}\n"
     ]
    }
   ],
   "source": [
    "variable5 = getdictionary([['a','a1'],['a','a2'],['a','a1','abc']],[[{'abc': 3}],[6],[1]],check= True)\n",
    "for i in variable5:\n",
    "    print(i)"
   ]
  },
  {
   "cell_type": "code",
   "execution_count": 209,
   "metadata": {},
   "outputs": [
    {
     "name": "stdout",
     "output_type": "stream",
     "text": [
      "None\n"
     ]
    }
   ],
   "source": [
    "variable7 = getdictionary([['x'],['y'],['a','a1']],[['7'],['9'],[5]],nullcheck=True,valcheck=True)\n",
    "print(variable7)"
   ]
  },
  {
   "cell_type": "code",
   "execution_count": 8,
   "metadata": {},
   "outputs": [
    {
     "name": "stdout",
     "output_type": "stream",
     "text": [
      "{'x': '7', 'y': '9', 'z': [1, 2, 3], 'a': [{'a1': 7}, {'a2': 9}], 'b': None}\n"
     ]
    }
   ],
   "source": [
    "variable7 = getdictionary([['x'],['y'],['b']],[['7'],['9'],[None]],nullcheck=True,valcheck=False)\n",
    "for i in variable7:\n",
    "    print(i)"
   ]
  },
  {
   "cell_type": "code",
   "execution_count": 7,
   "metadata": {},
   "outputs": [
    {
     "name": "stdout",
     "output_type": "stream",
     "text": [
      "None\n"
     ]
    }
   ],
   "source": [
    "variable8 = getdictionary([['x'],['y'],['a','a1']],[['7'],['9'],[56]],nullcheck=True,valcheck=True)\n",
    "print(variable8)"
   ]
  },
  {
   "cell_type": "code",
   "execution_count": 6,
   "metadata": {},
   "outputs": [
    {
     "name": "stdout",
     "output_type": "stream",
     "text": [
      "[{'x': '7', 'y': '8', 'z': [1, 2, 3], 'a': [{'a1': 6}, {'a2': 9}], 'b': None}, {'x': '7', 'y': '9', 'z': [1, 2, 3], 'a': [{'a1': 7}, {'a2': 9}], 'b': None}]\n"
     ]
    }
   ],
   "source": [
    "variable9 = getdictionary([['x'],['y'],['a','a1']],[['7'],['9'],[56]],nullcheck=True,valcheck=False)\n",
    "print(variable9)"
   ]
  },
  {
   "cell_type": "code",
   "execution_count": null,
   "metadata": {},
   "outputs": [],
   "source": []
  }
 ],
 "metadata": {
  "kernelspec": {
   "display_name": "Python 3",
   "language": "python",
   "name": "python3"
  },
  "language_info": {
   "codemirror_mode": {
    "name": "ipython",
    "version": 3
   },
   "file_extension": ".py",
   "mimetype": "text/x-python",
   "name": "python",
   "nbconvert_exporter": "python",
   "pygments_lexer": "ipython3",
   "version": "3.7.4"
  }
 },
 "nbformat": 4,
 "nbformat_minor": 2
}
