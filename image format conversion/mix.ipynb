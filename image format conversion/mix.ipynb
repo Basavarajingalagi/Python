{
 "cells": [
  {
   "cell_type": "code",
   "execution_count": 15,
   "metadata": {},
   "outputs": [],
   "source": [
    "import os"
   ]
  },
  {
   "cell_type": "code",
   "execution_count": 16,
   "metadata": {},
   "outputs": [],
   "source": [
    "import cv2"
   ]
  },
  {
   "cell_type": "code",
   "execution_count": 17,
   "metadata": {},
   "outputs": [
    {
     "name": "stdout",
     "output_type": "stream",
     "text": [
      "to which format u want to convert.png\n"
     ]
    }
   ],
   "source": [
    "a = input('to which format u want to convert')"
   ]
  },
  {
   "cell_type": "code",
   "execution_count": 18,
   "metadata": {},
   "outputs": [],
   "source": [
    "source = os.listdir(r'C:\\Users\\Excel\\Desktop\\jpg')"
   ]
  },
  {
   "cell_type": "code",
   "execution_count": 19,
   "metadata": {},
   "outputs": [],
   "source": [
    "dirs = r'C:\\Users\\Excel\\Desktop\\pngcopy'\n",
    "if not os.path.exists(dirs):\n",
    "    os.makedirs(dirs)"
   ]
  },
  {
   "cell_type": "code",
   "execution_count": 20,
   "metadata": {},
   "outputs": [],
   "source": [
    "jpg = []\n",
    "for i in source:\n",
    "    if not i.endswith(a):\n",
    "        jpg.append(i)\n",
    "        "
   ]
  },
  {
   "cell_type": "code",
   "execution_count": 21,
   "metadata": {},
   "outputs": [
    {
     "name": "stdout",
     "output_type": "stream",
     "text": [
      "['.ipynb_checkpoints', '32.ppm', '56.jpg', 'any.jpg', 'big.jpg', 'debug.log', 'download.jpeg', 'flower.jpg', 'flower2.jpg', 'green.jpg', 'images.jpg', 'mario.jpg', 'mix.ipynb', 'otherformat.py', 'png.ipynb', 'relax.jpg', 'sun.jpg', 'Sunflower_from_Silesia2.jpg', 'Untitled1.ipynb']\n"
     ]
    }
   ],
   "source": [
    "print(jpg)"
   ]
  },
  {
   "cell_type": "code",
   "execution_count": 22,
   "metadata": {},
   "outputs": [],
   "source": [
    "kl  = []\n",
    "for i in jpg:\n",
    "    if i.endswith('.ppm'):\n",
    "        kl.append(i)"
   ]
  },
  {
   "cell_type": "code",
   "execution_count": 23,
   "metadata": {},
   "outputs": [],
   "source": [
    "for i in jpg:\n",
    "    if i.endswith('.png'):\n",
    "        kl.append(i)"
   ]
  },
  {
   "cell_type": "code",
   "execution_count": 24,
   "metadata": {},
   "outputs": [],
   "source": [
    "for i in jpg:\n",
    "    if i.endswith('.jpg'):\n",
    "        kl.append(i)"
   ]
  },
  {
   "cell_type": "code",
   "execution_count": 25,
   "metadata": {},
   "outputs": [],
   "source": [
    "for i in jpg:\n",
    "    if i.endswith('.JPEG'):\n",
    "        kl.append(i)"
   ]
  },
  {
   "cell_type": "code",
   "execution_count": 26,
   "metadata": {},
   "outputs": [
    {
     "name": "stdout",
     "output_type": "stream",
     "text": [
      "['32.ppm', '56.jpg', 'any.jpg', 'big.jpg', 'flower.jpg', 'flower2.jpg', 'green.jpg', 'images.jpg', 'mario.jpg', 'relax.jpg', 'sun.jpg', 'Sunflower_from_Silesia2.jpg']\n"
     ]
    }
   ],
   "source": [
    "print(kl)"
   ]
  },
  {
   "cell_type": "code",
   "execution_count": 27,
   "metadata": {},
   "outputs": [],
   "source": [
    "n=0\n",
    "for i in kl:\n",
    "    img = cv2.imread(i)\n",
    "    img_name = os.path.splitext(i)[0]\n",
    "    \n",
    "    cv2.imwrite(os.path.join(dirs,(img_name+str(n)+a)), img)\n",
    "    n+=1"
   ]
  },
  {
   "cell_type": "code",
   "execution_count": null,
   "metadata": {},
   "outputs": [],
   "source": [
    "source = input('specify the folder')\n",
    "a = input('to which format u want to convert')\n",
    "destination = input('specify the path to copy files')\n",
    "convert(source,destination,a)"
   ]
  },
  {
   "cell_type": "code",
   "execution_count": null,
   "metadata": {},
   "outputs": [],
   "source": []
  }
 ],
 "metadata": {
  "kernelspec": {
   "display_name": "Python 3",
   "language": "python",
   "name": "python3"
  },
  "language_info": {
   "codemirror_mode": {
    "name": "ipython",
    "version": 3
   },
   "file_extension": ".py",
   "mimetype": "text/x-python",
   "name": "python",
   "nbconvert_exporter": "python",
   "pygments_lexer": "ipython3",
   "version": "3.7.4"
  }
 },
 "nbformat": 4,
 "nbformat_minor": 2
}
