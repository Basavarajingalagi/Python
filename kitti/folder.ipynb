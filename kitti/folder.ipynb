{
 "cells": [
  {
   "cell_type": "code",
   "execution_count": 1,
   "metadata": {},
   "outputs": [],
   "source": [
    "import os"
   ]
  },
  {
   "cell_type": "code",
   "execution_count": 2,
   "metadata": {},
   "outputs": [],
   "source": [
    "import numpy as np\n",
    "import cv2"
   ]
  },
  {
   "cell_type": "code",
   "execution_count": 3,
   "metadata": {},
   "outputs": [],
   "source": [
    "a = os.listdir(r'C:\\Users\\Excel\\Desktop\\batch')"
   ]
  },
  {
   "cell_type": "code",
   "execution_count": 4,
   "metadata": {},
   "outputs": [],
   "source": [
    "txt_files =[]\n",
    "for i in a:\n",
    "    if i.endswith(\".txt\"):\n",
    "        txt_files.append(i)"
   ]
  },
  {
   "cell_type": "code",
   "execution_count": 5,
   "metadata": {},
   "outputs": [],
   "source": [
    "def load_txt(i):\n",
    "    f = open(i,'r')    \n",
    "    content = f.readlines()\n",
    "    content = [x.split() for x in content]\n",
    "    line = []\n",
    "    for item in content:\n",
    "            \n",
    "        #if item[0]=='Car' or item[0]=='Pedestrian':\n",
    "            objects = str(item[0])\n",
    "            x, y = int(float(item[4])), int(float(item[5]))\n",
    "            x_width, y_width = int(float(item[6])), int(float(item[7]))\n",
    "            box = objects,x,y,x_width,y_width\n",
    "            line.append(box)\n",
    "           \n",
    "    return line"
   ]
  },
  {
   "cell_type": "code",
   "execution_count": 6,
   "metadata": {},
   "outputs": [
    {
     "data": {
      "text/plain": [
       "['000000.txt',\n",
       " '000005.txt',\n",
       " '000011.txt',\n",
       " '000015.txt',\n",
       " '000028.txt',\n",
       " '000040.txt',\n",
       " '000043.txt',\n",
       " '000048.txt',\n",
       " '000054.txt',\n",
       " '000058.txt',\n",
       " '000063.txt',\n",
       " '000065.txt',\n",
       " '000070.txt',\n",
       " '000073.txt',\n",
       " '000074.txt',\n",
       " '000076.txt',\n",
       " '000100.txt',\n",
       " '000103.txt',\n",
       " '000109.txt',\n",
       " '000114.txt',\n",
       " '000118.txt',\n",
       " '000124.txt',\n",
       " '000130.txt',\n",
       " '000134.txt',\n",
       " '000142.txt',\n",
       " '000145.txt',\n",
       " '000146.txt',\n",
       " '000147.txt',\n",
       " '000149.txt']"
      ]
     },
     "execution_count": 6,
     "metadata": {},
     "output_type": "execute_result"
    }
   ],
   "source": [
    "txt_files"
   ]
  },
  {
   "cell_type": "code",
   "execution_count": 17,
   "metadata": {},
   "outputs": [
    {
     "ename": "KeyboardInterrupt",
     "evalue": "",
     "output_type": "error",
     "traceback": [
      "\u001b[1;31m---------------------------------------------------------------------------\u001b[0m",
      "\u001b[1;31mKeyboardInterrupt\u001b[0m                         Traceback (most recent call last)",
      "\u001b[1;32m<ipython-input-17-d52a4ce83b0e>\u001b[0m in \u001b[0;36m<module>\u001b[1;34m\u001b[0m\n\u001b[0;32m     12\u001b[0m         \u001b[0mrectangle\u001b[0m \u001b[1;33m=\u001b[0m \u001b[0mcv2\u001b[0m\u001b[1;33m.\u001b[0m\u001b[0mrectangle\u001b[0m\u001b[1;33m(\u001b[0m\u001b[0mimg\u001b[0m\u001b[1;33m,\u001b[0m \u001b[1;33m(\u001b[0m\u001b[0mx\u001b[0m\u001b[1;33m,\u001b[0m \u001b[0my\u001b[0m\u001b[1;33m)\u001b[0m\u001b[1;33m,\u001b[0m \u001b[1;33m(\u001b[0m\u001b[0mx_width\u001b[0m\u001b[1;33m,\u001b[0m \u001b[0my_width\u001b[0m\u001b[1;33m)\u001b[0m\u001b[1;33m,\u001b[0m \u001b[1;33m(\u001b[0m\u001b[1;36m255\u001b[0m\u001b[1;33m,\u001b[0m \u001b[1;36m0\u001b[0m\u001b[1;33m,\u001b[0m \u001b[1;36m0\u001b[0m\u001b[1;33m)\u001b[0m\u001b[1;33m,\u001b[0m \u001b[1;36m10\u001b[0m\u001b[1;33m)\u001b[0m\u001b[1;33m\u001b[0m\u001b[0m\n\u001b[0;32m     13\u001b[0m         \u001b[0mpath\u001b[0m \u001b[1;33m=\u001b[0m \u001b[1;34mr'C:\\Users\\Excel\\Desktop\\objects'\u001b[0m\u001b[1;33m\u001b[0m\u001b[0m\n\u001b[1;32m---> 14\u001b[1;33m         \u001b[0mcv2\u001b[0m\u001b[1;33m.\u001b[0m\u001b[0mimwrite\u001b[0m\u001b[1;33m(\u001b[0m\u001b[0mstr\u001b[0m\u001b[1;33m(\u001b[0m\u001b[0mnum\u001b[0m\u001b[1;33m)\u001b[0m\u001b[1;33m+\u001b[0m\u001b[1;34m'.png'\u001b[0m \u001b[1;33m,\u001b[0m \u001b[0mrectangle\u001b[0m\u001b[1;33m)\u001b[0m\u001b[1;33m\u001b[0m\u001b[0m\n\u001b[0m\u001b[0;32m     15\u001b[0m         \u001b[0mnum\u001b[0m\u001b[1;33m+=\u001b[0m\u001b[1;36m1\u001b[0m\u001b[1;33m\u001b[0m\u001b[0m\n\u001b[0;32m     16\u001b[0m \u001b[1;33m\u001b[0m\u001b[0m\n",
      "\u001b[1;31mKeyboardInterrupt\u001b[0m: "
     ]
    }
   ],
   "source": [
    "num = 0\n",
    "\n",
    "for file in txt_files:\n",
    "    line=load_txt(file)\n",
    "\n",
    "    for i in line:\n",
    "        objects,x,y,x_width,y_width = i\n",
    "        lab_img = os.path.splitext(file)[0]                        #lab_img=os.path.splitext(file)[0]\n",
    "        img = cv2.imread(lab_img+\".png\")                                #img =read img (lab_img + ext)\n",
    "\n",
    "                                                                #image = cv2.imread('000011.png')\n",
    "        rectangle = cv2.rectangle(img, (x, y), (x_width, y_width), (255, 0, 0), 10)\n",
    "        path = r'C:\\Users\\Excel\\Desktop\\objects'  \n",
    "        cv2.imwrite(str(num)+'.png' , rectangle)\n",
    "        num+=1\n",
    "        \n"
   ]
  },
  {
   "cell_type": "code",
   "execution_count": null,
   "metadata": {},
   "outputs": [],
   "source": []
  },
  {
   "cell_type": "code",
   "execution_count": null,
   "metadata": {},
   "outputs": [],
   "source": []
  }
 ],
 "metadata": {
  "kernelspec": {
   "display_name": "Python 3",
   "language": "python",
   "name": "python3"
  },
  "language_info": {
   "codemirror_mode": {
    "name": "ipython",
    "version": 3
   },
   "file_extension": ".py",
   "mimetype": "text/x-python",
   "name": "python",
   "nbconvert_exporter": "python",
   "pygments_lexer": "ipython3",
   "version": "3.6.0"
  }
 },
 "nbformat": 4,
 "nbformat_minor": 2
}
