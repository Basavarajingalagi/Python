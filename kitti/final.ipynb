{
 "cells": [
  {
   "cell_type": "code",
   "execution_count": 179,
   "metadata": {},
   "outputs": [],
   "source": [
    "import os"
   ]
  },
  {
   "cell_type": "code",
   "execution_count": 180,
   "metadata": {},
   "outputs": [],
   "source": [
    "a = os.listdir("
   ]
  },
  {
   "cell_type": "code",
   "execution_count": 181,
   "metadata": {},
   "outputs": [],
   "source": [
    "txt_files =[]\n",
    "for i in a:\n",
    "    if i.endswith(\".txt\"):\n",
    "        txt_files.append(i)"
   ]
  },
  {
   "cell_type": "code",
   "execution_count": 182,
   "metadata": {},
   "outputs": [],
   "source": [
    "def loaded_txt(i):\n",
    "    f = open(i,'r')    \n",
    "    content = f.readlines()\n",
    "    content = [x.split() for x in content]\n",
    "    item = []\n",
    "    for k in content:\n",
    "        k = str(k[0])\n",
    "        item.append(k)\n",
    "    #for objects in item:\n",
    "            #if objects not in item:\n",
    "               # item.append(objects)\n",
    "        \n",
    "    f.close\n",
    "           \n",
    "    return item"
   ]
  },
  {
   "cell_type": "code",
   "execution_count": 183,
   "metadata": {},
   "outputs": [
    {
     "name": "stdout",
     "output_type": "stream",
     "text": [
      "['Pedestrian', 'DontCare', 'Car', 'Cyclist', 'Van', 'Tram', 'Person_sitting', 'Truck']\n"
     ]
    }
   ],
   "source": [
    "items = []\n",
    "for file in txt_files:\n",
    "    item=loaded_txt(file)\n",
    "    for k in item:\n",
    "        if k not in items:\n",
    "            items.append(k)\n",
    "print(items)"
   ]
  },
  {
   "cell_type": "code",
   "execution_count": 184,
   "metadata": {},
   "outputs": [
    {
     "data": {
      "text/plain": [
       "8"
      ]
     },
     "execution_count": 184,
     "metadata": {},
     "output_type": "execute_result"
    }
   ],
   "source": [
    "len(items)"
   ]
  },
  {
   "cell_type": "code",
   "execution_count": 185,
   "metadata": {},
   "outputs": [],
   "source": [
    "zero_array = [0]*len(items)"
   ]
  },
  {
   "cell_type": "code",
   "execution_count": 186,
   "metadata": {},
   "outputs": [
    {
     "data": {
      "text/plain": [
       "[0, 0, 0, 0, 0, 0, 0, 0]"
      ]
     },
     "execution_count": 186,
     "metadata": {},
     "output_type": "execute_result"
    }
   ],
   "source": [
    "zero_array"
   ]
  },
  {
   "cell_type": "code",
   "execution_count": 187,
   "metadata": {},
   "outputs": [
    {
     "data": {
      "text/plain": [
       "0"
      ]
     },
     "execution_count": 187,
     "metadata": {},
     "output_type": "execute_result"
    }
   ],
   "source": [
    "items.index('Pedestrian')"
   ]
  },
  {
   "cell_type": "code",
   "execution_count": 188,
   "metadata": {},
   "outputs": [],
   "source": [
    "def load_txt(i):\n",
    "    f = open(i,'r')    \n",
    "    content = f.readlines()\n",
    "    content = [x.split() for x in content]\n",
    "    line = []\n",
    "    for item in content:\n",
    "            objects = str(item[0])\n",
    "            x, y = int(float(item[4])), int(float(item[5]))\n",
    "            x_width, y_width = int(float(item[6])), int(float(item[7]))\n",
    "            box = objects,x,y,x_width,y_width\n",
    "            line.append(box)\n",
    "           \n",
    "    return line"
   ]
  },
  {
   "cell_type": "code",
   "execution_count": 189,
   "metadata": {},
   "outputs": [],
   "source": [
    "\n",
    "for file in txt_files:\n",
    "    line=load_txt(file)\n",
    "\n",
    "    for i in line:\n",
    "        objects,x,y,x_width,y_width = i\n",
    "        lab_img = os.path.splitext(file)[0]                        #lab_img=os.path.splitext(file)[0]\n",
    "        img = cv2.imread(lab_img+\".png\")                                #img =read img (lab_img + ext)\n",
    "                                                                #image = cv2.imread('000011.png')\n",
    "        crop = img[y:y_width,x:x_width]\n",
    "        path = r'C:\\Users\\Excel\\Desktop\\objects'+'/'+objects\n",
    "        \n",
    "         \n",
    "        \n",
    "        index= items.index(objects)\n",
    "        zero_array[index] +=1\n",
    "        a = zero_array[index]  \n",
    "        \n",
    "        \n",
    "        \n",
    "        #for i in items:\n",
    "        if not os.path.exists(path):\n",
    "            os.makedirs(path)\n",
    "            \n",
    "        cv2.imwrite(os.path.join(path,(str(objects)+str(a)+'.png')), crop) \n",
    "            "
   ]
  },
  {
   "cell_type": "code",
   "execution_count": 190,
   "metadata": {},
   "outputs": [
    {
     "data": {
      "text/plain": [
       "[71, 43, 58, 15, 5, 5, 9, 1]"
      ]
     },
     "execution_count": 190,
     "metadata": {},
     "output_type": "execute_result"
    }
   ],
   "source": [
    "zero_array"
   ]
  }
 ],
 "metadata": {
  "kernelspec": {
   "display_name": "Python 3",
   "language": "python",
   "name": "python3"
  },
  "language_info": {
   "codemirror_mode": {
    "name": "ipython",
    "version": 3
   },
   "file_extension": ".py",
   "mimetype": "text/x-python",
   "name": "python",
   "nbconvert_exporter": "python",
   "pygments_lexer": "ipython3",
   "version": "3.6.0"
  }
 },
 "nbformat": 4,
 "nbformat_minor": 2
}
