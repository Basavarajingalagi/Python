{
 "cells": [
  {
   "cell_type": "code",
   "execution_count": 11,
   "metadata": {},
   "outputs": [],
   "source": [
    "import os"
   ]
  },
  {
   "cell_type": "code",
   "execution_count": 12,
   "metadata": {},
   "outputs": [],
   "source": [
    "import numpy as np\n",
    "import cv2"
   ]
  },
  {
   "cell_type": "code",
   "execution_count": 13,
   "metadata": {},
   "outputs": [],
   "source": [
    "a = os.listdir(r'C:\\Users\\Excel\\Desktop\\batch')"
   ]
  },
  {
   "cell_type": "code",
   "execution_count": 14,
   "metadata": {},
   "outputs": [],
   "source": [
    "txt_files =[]\n",
    "for i in a:\n",
    "    if i.endswith(\".txt\"):\n",
    "        txt_files.append(i)"
   ]
  },
  {
   "cell_type": "code",
   "execution_count": 15,
   "metadata": {},
   "outputs": [],
   "source": [
    "def load_txt(i):\n",
    "    f = open(i,'r')    \n",
    "    content = f.readlines()\n",
    "    content = [x.split() for x in content]\n",
    "    line = []\n",
    "    for item in content:\n",
    "            \n",
    "        if item[0]=='Car' or item[0]=='Pedestrian':\n",
    "            objects = str(item[0])\n",
    "            x, y = int(float(item[4])), int(float(item[5]))\n",
    "            x_width, y_width = int(float(item[6])), int(float(item[7]))\n",
    "            box = objects,x,y,x_width,y_width\n",
    "            line.append(box)\n",
    "           \n",
    "    return line"
   ]
  },
  {
   "cell_type": "code",
   "execution_count": 16,
   "metadata": {},
   "outputs": [
    {
     "data": {
      "text/plain": [
       "['000000.txt',\n",
       " '000005.txt',\n",
       " '000011.txt',\n",
       " '000015.txt',\n",
       " '000028.txt',\n",
       " '000040.txt',\n",
       " '000043.txt',\n",
       " '000048.txt',\n",
       " '000054.txt',\n",
       " '000058.txt',\n",
       " '000063.txt',\n",
       " '000065.txt',\n",
       " '000070.txt',\n",
       " '000073.txt',\n",
       " '000074.txt',\n",
       " '000076.txt',\n",
       " '000100.txt',\n",
       " '000103.txt',\n",
       " '000109.txt',\n",
       " '000114.txt',\n",
       " '000118.txt',\n",
       " '000124.txt',\n",
       " '000130.txt',\n",
       " '000134.txt',\n",
       " '000142.txt',\n",
       " '000145.txt',\n",
       " '000146.txt',\n",
       " '000147.txt',\n",
       " '000149.txt']"
      ]
     },
     "execution_count": 16,
     "metadata": {},
     "output_type": "execute_result"
    }
   ],
   "source": [
    "txt_files"
   ]
  },
  {
   "cell_type": "code",
   "execution_count": 32,
   "metadata": {},
   "outputs": [],
   "source": [
    "for file in txt_files:\n",
    "    line=load_txt(file)\n",
    "\n",
    "    for i in line:\n",
    "        objects,x,y,x_width,y_width = i\n",
    "        lab_img = os.path.splitext(file)[0]                        #lab_img=os.path.splitext(file)[0]\n",
    "        img = cv2.imread(lab_img+\".png\")                                #img =read img (lab_img + ext)\n",
    "\n",
    "        if objects == 'Car':                                                        #image = cv2.imread('000011.png')\n",
    "            rectangle = cv2.rectangle(img, (x, y), (x_width, y_width), (0, 0, 255), 3)\n",
    "            cv2.putText(img,text='Car',org=(x,y), fontFace=cv2.FONT_HERSHEY_SIMPLEX,fontScale= 0.8,color=(255,0,0),thickness=2,lineType=cv2.LINE_AA)\n",
    "        elif objects == 'Pedestrian':\n",
    "            rectangle = cv2.rectangle(img, (x, y), (x_width, y_width), (255, 0, 0), 3)\n",
    "            cv2.putText(img,text = 'Pedestrian',org=(x, y), fontFace=cv2.FONT_HERSHEY_SIMPLEX,fontScale=0.8,color= (0, 0, 255),thickness = 2,lineType = cv2.LINE_AA)\n",
    "        \n",
    "        cv2.imwrite(lab_img+'.png' , rectangle)\n",
    "        \n"
   ]
  },
  {
   "cell_type": "code",
   "execution_count": null,
   "metadata": {},
   "outputs": [],
   "source": []
  },
  {
   "cell_type": "code",
   "execution_count": null,
   "metadata": {},
   "outputs": [],
   "source": []
  }
 ],
 "metadata": {
  "kernelspec": {
   "display_name": "Python 3",
   "language": "python",
   "name": "python3"
  },
  "language_info": {
   "codemirror_mode": {
    "name": "ipython",
    "version": 3
   },
   "file_extension": ".py",
   "mimetype": "text/x-python",
   "name": "python",
   "nbconvert_exporter": "python",
   "pygments_lexer": "ipython3",
   "version": "3.6.0"
  }
 },
 "nbformat": 4,
 "nbformat_minor": 2
}
