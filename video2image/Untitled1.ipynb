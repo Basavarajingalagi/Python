{
 "cells": [
  {
   "cell_type": "code",
   "execution_count": null,
   "metadata": {},
   "outputs": [],
   "source": [
    "while cap.isOpened():\n",
    "    start_time = time.time()\n",
    "    ret, frame = cap.read()\n",
    "    if ret == True:\n",
    "        cv2.imshow(\"frame\", frame)\n",
    "        if time.time() - start > 10:\n",
    "            start = time.time()\n",
    "            video_file_count += 1\n",
    "            video_file = os.path.join(name, str(video_file_count) + \".avi\")\n",
    "            video_writer = cv2.VideoWriter(\n",
    "                video_file, video_codec, fps, (int(cap.get(3)), int(cap.get(4)))\n",
    "            )\n",
    "            # No sleeping! We don't want to sleep, we want to write\n",
    "            # time.sleep(10)\n",
    "\n",
    "        # Write the frame to the current video writer\n",
    "        video_writer.write(frame)\n",
    "        if cv2.waitKey(1) & 0xFF == ord(\"q\"):\n",
    "            break\n",
    "    else:\n",
    "        break\n",
    "cap.release()\n",
    "cv2.destroyAllWindows()"
   ]
  }
 ],
 "metadata": {
  "kernelspec": {
   "display_name": "Python 3",
   "language": "python",
   "name": "python3"
  },
  "language_info": {
   "codemirror_mode": {
    "name": "ipython",
    "version": 3
   },
   "file_extension": ".py",
   "mimetype": "text/x-python",
   "name": "python",
   "nbconvert_exporter": "python",
   "pygments_lexer": "ipython3",
   "version": "3.6.0"
  }
 },
 "nbformat": 4,
 "nbformat_minor": 2
}
